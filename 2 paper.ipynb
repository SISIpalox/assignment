{
 "cells": [
  {
   "cell_type": "code",
   "execution_count": 1,
   "id": "ec1894cd-d481-4da2-90d4-012f67a2e468",
   "metadata": {
    "tags": []
   },
   "outputs": [
    {
     "ename": "NameError",
     "evalue": "name 'np' is not defined",
     "output_type": "error",
     "traceback": [
      "\u001b[0;31m---------------------------------------------------------------------------\u001b[0m",
      "\u001b[0;31mNameError\u001b[0m                                 Traceback (most recent call last)",
      "Cell \u001b[0;32mIn[1], line 23\u001b[0m\n\u001b[1;32m     21\u001b[0m \u001b[38;5;28;01mfor\u001b[39;00m _ \u001b[38;5;129;01min\u001b[39;00m \u001b[38;5;28mrange\u001b[39m(\u001b[38;5;241m50\u001b[39m):\n\u001b[1;32m     22\u001b[0m     numbers \u001b[38;5;241m=\u001b[39m \u001b[38;5;28mlist\u001b[39m(\u001b[38;5;28mrange\u001b[39m(\u001b[38;5;241m1\u001b[39m, \u001b[38;5;241m3\u001b[39m))\n\u001b[0;32m---> 23\u001b[0m     final_number \u001b[38;5;241m=\u001b[39m play_game(numbers)\n\u001b[1;32m     24\u001b[0m     final_numbers_1_to_2\u001b[38;5;241m.\u001b[39mappend(final_number)\n\u001b[1;32m     26\u001b[0m final_numbers_1_to_2\n",
      "Cell \u001b[0;32mIn[1], line 6\u001b[0m, in \u001b[0;36mplay_game\u001b[0;34m(numbers)\u001b[0m\n\u001b[1;32m      3\u001b[0m \u001b[38;5;28;01mdef\u001b[39;00m \u001b[38;5;21mplay_game\u001b[39m(numbers):\n\u001b[1;32m      4\u001b[0m     \u001b[38;5;28;01mwhile\u001b[39;00m \u001b[38;5;28mlen\u001b[39m(numbers) \u001b[38;5;241m>\u001b[39m \u001b[38;5;241m1\u001b[39m:\n\u001b[1;32m      5\u001b[0m         \u001b[38;5;66;03m# Randomly select two numbers\u001b[39;00m\n\u001b[0;32m----> 6\u001b[0m         chosen_idx \u001b[38;5;241m=\u001b[39m np\u001b[38;5;241m.\u001b[39mrandom\u001b[38;5;241m.\u001b[39mchoice(\u001b[38;5;28mlen\u001b[39m(numbers), \u001b[38;5;241m2\u001b[39m, replace\u001b[38;5;241m=\u001b[39m\u001b[38;5;28;01mFalse\u001b[39;00m)\n\u001b[1;32m      7\u001b[0m         chosen_numbers \u001b[38;5;241m=\u001b[39m [numbers[chosen_idx[\u001b[38;5;241m0\u001b[39m]], numbers[chosen_idx[\u001b[38;5;241m1\u001b[39m]]]\n\u001b[1;32m      8\u001b[0m         \u001b[38;5;66;03m# Calculate the difference between the two numbers\u001b[39;00m\n",
      "\u001b[0;31mNameError\u001b[0m: name 'np' is not defined"
     ]
    }
   ],
   "source": [
    "# Adjusting the game for when there are only papers numbered 1 and 2\n",
    "import numpy as np\n",
    "def play_game(numbers):\n",
    "    while len(numbers) > 1:\n",
    "        # Randomly select two numbers\n",
    "        chosen_idx = np.random.choice(len(numbers), 2, replace=False)\n",
    "        chosen_numbers = [numbers[chosen_idx[0]], numbers[chosen_idx[1]]]\n",
    "        # Calculate the difference between the two numbers\n",
    "        diff = abs(chosen_numbers[0] - chosen_numbers[1])\n",
    "        # Remove the chosen numbers from the list\n",
    "        numbers = [num for i, num in enumerate(numbers) if i not in chosen_idx]\n",
    "        # Put the difference back into the list\n",
    "        numbers.append(diff)\n",
    "    # Return the last remaining number in the list\n",
    "    return numbers[0]\n",
    "\n",
    "# Initialize a list to store the final numbers\n",
    "final_numbers_1_to_2 = []\n",
    "\n",
    "# Play the game 50 times with numbers 1 to 2\n",
    "for _ in range(50):\n",
    "    numbers = list(range(1, 3))\n",
    "    final_number = play_game(numbers)\n",
    "    final_numbers_1_to_2.append(final_number)\n",
    "\n",
    "final_numbers_1_to_2\n"
   ]
  },
  {
   "cell_type": "code",
   "execution_count": null,
   "id": "1c0647f5-216f-4512-ad71-7e5c5a444796",
   "metadata": {},
   "outputs": [],
   "source": []
  }
 ],
 "metadata": {
  "kernelspec": {
   "display_name": "Python 3 (ipykernel)",
   "language": "python",
   "name": "python3"
  },
  "language_info": {
   "codemirror_mode": {
    "name": "ipython",
    "version": 3
   },
   "file_extension": ".py",
   "mimetype": "text/x-python",
   "name": "python",
   "nbconvert_exporter": "python",
   "pygments_lexer": "ipython3",
   "version": "3.11.5"
  }
 },
 "nbformat": 4,
 "nbformat_minor": 5
}
