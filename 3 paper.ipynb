{
 "cells": [
  {
   "cell_type": "code",
   "execution_count": 1,
   "id": "697aba52-971f-4216-ab1e-22390522bbc9",
   "metadata": {
    "tags": []
   },
   "outputs": [
    {
     "ename": "NameError",
     "evalue": "name 'np' is not defined",
     "output_type": "error",
     "traceback": [
      "\u001b[0;31m---------------------------------------------------------------------------\u001b[0m",
      "\u001b[0;31mNameError\u001b[0m                                 Traceback (most recent call last)",
      "Cell \u001b[0;32mIn[1], line 23\u001b[0m\n\u001b[1;32m     21\u001b[0m \u001b[38;5;28;01mfor\u001b[39;00m _ \u001b[38;5;129;01min\u001b[39;00m \u001b[38;5;28mrange\u001b[39m(\u001b[38;5;241m50\u001b[39m):\n\u001b[1;32m     22\u001b[0m     numbers \u001b[38;5;241m=\u001b[39m \u001b[38;5;28mlist\u001b[39m(\u001b[38;5;28mrange\u001b[39m(\u001b[38;5;241m1\u001b[39m, \u001b[38;5;241m4\u001b[39m))\n\u001b[0;32m---> 23\u001b[0m     final_number \u001b[38;5;241m=\u001b[39m play_game(numbers)\n\u001b[1;32m     24\u001b[0m     final_numbers_1_to_3\u001b[38;5;241m.\u001b[39mappend(final_number)\n\u001b[1;32m     26\u001b[0m final_numbers_1_to_3\n",
      "Cell \u001b[0;32mIn[1], line 6\u001b[0m, in \u001b[0;36mplay_game\u001b[0;34m(numbers)\u001b[0m\n\u001b[1;32m      3\u001b[0m \u001b[38;5;28;01mdef\u001b[39;00m \u001b[38;5;21mplay_game\u001b[39m(numbers):\n\u001b[1;32m      4\u001b[0m     \u001b[38;5;28;01mwhile\u001b[39;00m \u001b[38;5;28mlen\u001b[39m(numbers) \u001b[38;5;241m>\u001b[39m \u001b[38;5;241m1\u001b[39m:\n\u001b[1;32m      5\u001b[0m         \u001b[38;5;66;03m# 随机选择两个数字\u001b[39;00m\n\u001b[0;32m----> 6\u001b[0m         chosen_idx \u001b[38;5;241m=\u001b[39m np\u001b[38;5;241m.\u001b[39mrandom\u001b[38;5;241m.\u001b[39mchoice(\u001b[38;5;28mlen\u001b[39m(numbers), \u001b[38;5;241m2\u001b[39m, replace\u001b[38;5;241m=\u001b[39m\u001b[38;5;28;01mFalse\u001b[39;00m)\n\u001b[1;32m      7\u001b[0m         chosen_numbers \u001b[38;5;241m=\u001b[39m [numbers[chosen_idx[\u001b[38;5;241m0\u001b[39m]], numbers[chosen_idx[\u001b[38;5;241m1\u001b[39m]]]\n\u001b[1;32m      8\u001b[0m         \u001b[38;5;66;03m# 计算这两个数字的差值\u001b[39;00m\n",
      "\u001b[0;31mNameError\u001b[0m: name 'np' is not defined"
     ]
    }
   ],
   "source": [
    "\n"
   ]
  },
  {
   "cell_type": "code",
   "execution_count": null,
   "id": "9867c4b9-e868-46ba-9423-69b1971077d3",
   "metadata": {},
   "outputs": [],
   "source": []
  }
 ],
 "metadata": {
  "kernelspec": {
   "display_name": "Python 3 (ipykernel)",
   "language": "python",
   "name": "python3"
  },
  "language_info": {
   "codemirror_mode": {
    "name": "ipython",
    "version": 3
   },
   "file_extension": ".py",
   "mimetype": "text/x-python",
   "name": "python",
   "nbconvert_exporter": "python",
   "pygments_lexer": "ipython3",
   "version": "3.11.5"
  }
 },
 "nbformat": 4,
 "nbformat_minor": 5
}
